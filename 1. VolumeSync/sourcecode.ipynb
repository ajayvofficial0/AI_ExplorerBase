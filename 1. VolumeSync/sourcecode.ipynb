{
 "cells": [
  {
   "cell_type": "code",
   "execution_count": 25,
   "id": "b625a185",
   "metadata": {},
   "outputs": [],
   "source": [
    "import cv2              \n",
    "import mediapipe as mp  \n",
    "import pyautogui\n"
   ]
  },
  {
   "cell_type": "code",
   "execution_count": 26,
   "id": "0ab7327e",
   "metadata": {},
   "outputs": [],
   "source": [
    "x1=y1=x2=y2=0\n",
    "webc=cv2.VideoCapture(0) #videocapture is a function of cv2 &() is the number of webcams \n",
    "\n",
    "i_hands=mp.solutions.hands.Hands()\n",
    "drawing_utils=mp.solutions.drawing_utils\n",
    "\n",
    "while True:\n",
    "   _ ,image= webc.read()                             #read takes 2 variables\n",
    "   image= cv2.flip(image,1)\n",
    "   frame_height, frame_width,_= image.shape          #height ,width and depth here depth is empty\n",
    "      \n",
    "   rgb_image= cv2.cvtColor(image,cv2.COLOR_BGR2RGB)  #cvt bgr to rgb image\n",
    "   output=i_hands.process(rgb_image)\n",
    "    \n",
    "   hands= output.multi_hand_landmarks                #it checks for hands if there any was,it checks the if condition\n",
    "   if hands: \n",
    "    for hand in hands:\n",
    "     drawing_utils.draw_landmarks(image,hand)        #drawlandmarks function used under drawing utils\n",
    "     landmarks= hand.landmark                   #collecting all points\n",
    "        \n",
    "     for id,landmark in enumerate(landmarks):   #collecting id and landmark positions and marking the 2 fingers\n",
    "        x=int(landmark.x * frame_width)\n",
    "        y=int(landmark.y * frame_height)\n",
    "        if id==8:                       #forefinger\n",
    "          cv2.circle(img=image,center=(x,y),radius=8,color=(0,255,255),thickness=3)\n",
    "          x1=x\n",
    "          y1=y\n",
    "        if id==4:                      #thumbfinger\n",
    "          cv2.circle(img=image,center=(x,y),radius=8,color=(0,0,255),thickness=3)\n",
    "          x2=x\n",
    "          y2=y\n",
    "        \n",
    "     dist= ((x2-x1)**2 + (y2-y1)**2)**(0.5)//4\n",
    "     cv2.line(image,(x1,y1),(x2,y2),(0,255,0),5)        #drawing a greenline(bgr) from both the points with thickness 5\n",
    "     if dist > 50:\n",
    "        pyautogui.press(\"volumeup\")\n",
    "     else:\n",
    "        pyautogui.press(\"volumedown\")\n",
    "        \n",
    "        \n",
    "   cv2.imshow(\"volume control using python\",image)  #imshow is used to display in a window\n",
    "   key=cv2.waitKey(10)                              #wait for 10 ms\n",
    "   if key==27:                                      #27 is esc key to exit \n",
    "        break\n",
    "webc.release()                                     #closes the webcam\n",
    "cv2.destroyAllWindows()                            #closes the windows that was opened \n",
    "    \n",
    "    \n",
    "    \n",
    "    \n",
    "    "
   ]
  },
  {
   "cell_type": "code",
   "execution_count": null,
   "id": "f807c8c8",
   "metadata": {},
   "outputs": [],
   "source": []
  },
  {
   "cell_type": "code",
   "execution_count": null,
   "id": "c790aa18",
   "metadata": {},
   "outputs": [],
   "source": []
  }
 ],
 "metadata": {
  "kernelspec": {
   "display_name": "Python 3 (ipykernel)",
   "language": "python",
   "name": "python3"
  },
  "language_info": {
   "codemirror_mode": {
    "name": "ipython",
    "version": 3
   },
   "file_extension": ".py",
   "mimetype": "text/x-python",
   "name": "python",
   "nbconvert_exporter": "python",
   "pygments_lexer": "ipython3",
   "version": "3.11.5"
  }
 },
 "nbformat": 4,
 "nbformat_minor": 5
}
